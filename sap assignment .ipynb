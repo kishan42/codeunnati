{
 "cells": [
  {
   "cell_type": "code",
   "execution_count": 7,
   "id": "8eb8cf1f",
   "metadata": {},
   "outputs": [
    {
     "name": "stdout",
     "output_type": "stream",
     "text": [
      "enter the ferenhit temp :32.5\n",
      "temperature in celsius : 0.2777777777777778\n"
     ]
    }
   ],
   "source": [
    "f = float(input(\"enter the ferenhit temp :\"))  # temprature convert fernhit to celsius\n",
    "c = (f-32)*5/9\n",
    "print(\"temperature in celsius :\",c)"
   ]
  },
  {
   "cell_type": "code",
   "execution_count": 9,
   "id": "52fbfdd5",
   "metadata": {},
   "outputs": [
    {
     "name": "stdout",
     "output_type": "stream",
     "text": [
      "enter the number a :12\n",
      "enter the number b :43\n",
      "Before swapping \n",
      " value of a : 12  value of b : 43\n",
      "After swapping \n",
      " value of a : 43  value of b : 12\n"
     ]
    }
   ],
   "source": [
    "a = int(input(\"enter the number a :\"))     #swapping number with temprary veriable\n",
    "b = int(input(\"enter the number b :\"))\n",
    "print(\"Before swapping \\n value of a :\",a,\" value of b :\",b)\n",
    "d = a \n",
    "a = b\n",
    "b = d\n",
    "print(\"After swapping \\n value of a :\",a,\" value of b :\",b)\n"
   ]
  },
  {
   "cell_type": "code",
   "execution_count": 14,
   "id": "8d3fceae",
   "metadata": {},
   "outputs": [
    {
     "name": "stdout",
     "output_type": "stream",
     "text": [
      "enter the x axis of point a :12\n",
      "enter the y axis of point a :43\n",
      "enter the x axis of point b :76\n",
      "enter the y axis of point b :89\n",
      "distance between a nad b : 78.81624198095213\n"
     ]
    }
   ],
   "source": [
    "import math                       #distance between two points\n",
    "x1 = int(input(\"enter the x axis of point a :\"))\n",
    "y1 = int(input(\"enter the y axis of point a :\"))\n",
    "x2 = int(input(\"enter the x axis of point b :\"))\n",
    "y2 = int(input(\"enter the y axis of point b :\"))\n",
    "dist = math.sqrt(pow((x1-x2),2) + pow((y1-y2),2))\n",
    "print(\"distance between a nad b :\",dist)"
   ]
  },
  {
   "cell_type": "code",
   "execution_count": 15,
   "id": "e1de0eb5",
   "metadata": {},
   "outputs": [
    {
     "name": "stdout",
     "output_type": "stream",
     "text": [
      "enter the a :12\n",
      "enter the b :43\n",
      "squre root of a : 144\n",
      "squre root of b : 1849\n"
     ]
    }
   ],
   "source": [
    "a = int(input(\"enter the a :\"))    #squreroot of two numbers\n",
    "b = int(input(\"enter the b :\"))\n",
    "print(\"squre root of a :\",a**2)\n",
    "print(\"squre root of b :\",b**2)\n"
   ]
  },
  {
   "cell_type": "code",
   "execution_count": 21,
   "id": "00ce728c",
   "metadata": {},
   "outputs": [
    {
     "name": "stdout",
     "output_type": "stream",
     "text": [
      "enter the number :5\n",
      "factorial of  5  is  120\n"
     ]
    }
   ],
   "source": [
    "a = int(input(\"enter the number :\"))   #factorial of number\n",
    "fact = 1\n",
    "if a==0:\n",
    "    fact = 1\n",
    "else:\n",
    "  for i in range(1,a+1):\n",
    "     fact *= i\n",
    "print(\"factorial of \",a,' is ',fact)    "
   ]
  },
  {
   "cell_type": "code",
   "execution_count": 7,
   "id": "f3576afd",
   "metadata": {},
   "outputs": [
    {
     "name": "stdout",
     "output_type": "stream",
     "text": [
      "enter the number :12\n",
      "sum of all digit is  3\n"
     ]
    }
   ],
   "source": [
    "b = int(input(\"enter the number :\"))    #sum of all digit number\n",
    "sum = 0\n",
    "while b > 0:\n",
    "    c = int(b%10)\n",
    "    b //= 10\n",
    "    sum += c\n",
    "print(\"sum of all digit is \",sum)"
   ]
  },
  {
   "cell_type": "code",
   "execution_count": 46,
   "id": "56094e31",
   "metadata": {},
   "outputs": [
    {
     "name": "stdout",
     "output_type": "stream",
     "text": [
      "maximum of tuple : egtdfx\n",
      "minimum of tuple 2142\n",
      "('sfdv', 'esxcc', 34323, 'fdc', 3521)\n",
      "('efd', 'dvx', 'dvcdg', 'egtdfx', 'sfdv', 'esxcc', 34323, 'fdc', 3521, 3573, 2433, 4345, 2142, 8766)\n",
      "('sfdv', 'esxcc', 34323, 'fdc', 3521, 'sfdv', 'esxcc', 34323, 'fdc', 3521)\n",
      "(('sfdv', 'esxcc', 34323, 'fdc', 3521), ('sfdv', 'esxcc', 34323, 'fdc', 3521), ('sfdv', 'esxcc', 34323, 'fdc', 3521))\n",
      "('efd', 'dvx', 'dvcdg', 'egtdfx')\n",
      "('efd', 'dvx', 'dvcdg')\n",
      "('dvx', 'dvcdg', 'egtdfx')\n",
      "(34323,)\n",
      "()\n",
      "('sfdv', 'esxcc', 34323, 'fdc')\n",
      "()\n",
      "('sfdv',)\n",
      "()\n",
      "('sfdv', 'esxcc', 34323, 'fdc')\n",
      "(34323, 'fdc', 3521)\n",
      "()\n",
      "['egtdfx', (3573, 2433, 4345, 2142, 8766), 'esxcc']\n",
      "False\n",
      "True\n",
      "True\n"
     ]
    }
   ],
   "source": [
    "from itertools import repeat   # for the repeating tuple\n",
    "\n",
    "tuple1 = ('efd','dvx','dvcdg','egtdfx')\n",
    "tuple2 = (3573,2433,4345,2142,8766)\n",
    "tuple3 = ('sfdv','esxcc',34323,'fdc',3521)\n",
    "tuple4 = (3335,5532,325,3223)\n",
    "tuple5 = ('fsfsdf','sffdsd','sdfdsf')\n",
    "\n",
    "print(\"maximum of tuple :\",max(tuple1))\n",
    "print(\"minimum of tuple\",min(tuple2))\n",
    "print(tuple3)\n",
    "print(tuple1 + tuple3 + tuple2)\n",
    "print(tuple3*2)    #dublicate of tuple\n",
    "print(tuple(repeat(tuple3,3)))  #repeating tuple\n",
    "\n",
    "print(tuple1[:])    #slicing tuple\n",
    "print(tuple1[:-1])\n",
    "print(tuple1[1:])\n",
    "print(tuple3[2:-2])\n",
    "print(tuple3[-1:0])\n",
    "print(tuple3[0:-1])\n",
    "print(tuple3[1:0])\n",
    "print(tuple3[0:1])\n",
    "print(tuple3[-1:-5])\n",
    "print(tuple3[-5:-1])\n",
    "print(tuple3[2:5])\n",
    "print(tuple3[5:2])\n",
    "\n",
    "l = []                 #obtianint a list from tuple\n",
    "l.append(tuple1[3])\n",
    "l.append(tuple2)\n",
    "l.append(tuple3[1])\n",
    "print(l)\n",
    "\n",
    "print(tuple1 == tuple2)   #compare two tuples\n",
    "print(tuple2 > tuple4)\n",
    "print(tuple1 < tuple5)\n"
   ]
  },
  {
   "cell_type": "code",
   "execution_count": 6,
   "id": "c720786d",
   "metadata": {},
   "outputs": [
    {
     "name": "stdout",
     "output_type": "stream",
     "text": [
      "enter the number :12\n",
      "sum of all digit is  21\n"
     ]
    }
   ],
   "source": [
    "b = int(input(\"enter the number :\"))    #reverse number\n",
    "sum =0\n",
    "while b > 0:\n",
    "    sum *= 10\n",
    "    c = int(b%10)\n",
    "    b //= 10\n",
    "    sum += c \n",
    "    \n",
    "print(\"sum of all digit is \",sum)"
   ]
  },
  {
   "cell_type": "code",
   "execution_count": 34,
   "id": "dac4089d",
   "metadata": {},
   "outputs": [
    {
     "name": "stdout",
     "output_type": "stream",
     "text": [
      "enter the str :wet\n",
      "tew\n",
      "\n",
      "\n",
      "e\n"
     ]
    }
   ],
   "source": [
    "b = input(\"enter the str :\");  #reverse string \n",
    "\n",
    "print(b[::-1])          #[start:end:step]\n",
    "print(b[-1:0])\n",
    "print(b[-1:-2])\n",
    "print(b[1:-3:-1])\n"
   ]
  },
  {
   "cell_type": "code",
   "execution_count": 78,
   "id": "6ce0a19f",
   "metadata": {},
   "outputs": [
    {
     "name": "stdout",
     "output_type": "stream",
     "text": [
      "enter the number of range :4\n",
      "0\n",
      "1\n",
      "1\n",
      "2\n"
     ]
    }
   ],
   "source": [
    "a = int(input(\"enter the number of range :\"))   #fibonacci series upto a number\n",
    "b = 0\n",
    "c = 1\n",
    "fib = 0\n",
    "print(\"fibonacci series upto \",a,\" :\")\n",
    "if a == 1:\n",
    "    print(b) \n",
    "else :\n",
    "    print(b)\n",
    "    print(c)\n",
    "    for i in range(1,a-1):\n",
    "      fib = b + c\n",
    "      b = c\n",
    "      c = fib\n",
    "      print(fib)    "
   ]
  },
  {
   "cell_type": "code",
   "execution_count": 82,
   "id": "56cd88af",
   "metadata": {},
   "outputs": [
    {
     "name": "stdout",
     "output_type": "stream",
     "text": [
      "enter the number a:23\n",
      "enter the number b:53\n",
      "enter the number c:65\n",
      "greatest of 3 number is : 65\n"
     ]
    }
   ],
   "source": [
    "a = input(\"enter the number a:\")   #greatest of 3 numbers\n",
    "b = input(\"enter the number b:\")\n",
    "c = input(\"enter the number c:\")\n",
    "\n",
    "if a < c:\n",
    "    if b < c:\n",
    "        print(\"greatest of 3 number is :\",c)\n",
    "    else:\n",
    "        print(\"greatest of 3 number is :\",b)\n",
    "elif a > b:\n",
    "    print(\"greatest of 3 number is :\",a)\n",
    "else:\n",
    "    print(\"greatest of 3 number is :\",b)\n",
    "     \n",
    "        "
   ]
  },
  {
   "cell_type": "code",
   "execution_count": 1,
   "id": "218865fd",
   "metadata": {},
   "outputs": [
    {
     "name": "stdout",
     "output_type": "stream",
     "text": [
      "enter the number of range:5\n",
      "1\n",
      "2\n",
      "3\n",
      "4\n",
      "5\n"
     ]
    }
   ],
   "source": [
    "a = int(input(\"enter the number of range:\"))\n",
    "\n",
    "for i in range(1,a+1):\n",
    "    for j in range(1,i+1):\n",
    "        if j%i == 0:\n",
    "            print(j)\n",
    "    \n",
    "    \n"
   ]
  },
  {
   "cell_type": "code",
   "execution_count": 8,
   "id": "c8cefcad",
   "metadata": {},
   "outputs": [
    {
     "name": "stdout",
     "output_type": "stream",
     "text": [
      "Enter the string:wew\n",
      "The string is a palindrome\n"
     ]
    }
   ],
   "source": [
    "string = input('Enter the string:')    #string is palindrome or not.\n",
    "\n",
    "if(string == string[::-1]):\n",
    "        print('The string is a palindrome')\n",
    "else:\n",
    "        print('The string is not a palindrome')"
   ]
  },
  {
   "cell_type": "code",
   "execution_count": 52,
   "id": "cc51b1bc",
   "metadata": {},
   "outputs": [
    {
     "name": "stdout",
     "output_type": "stream",
     "text": [
      "Enter the range of number :6\n",
      "2\n",
      "3\n",
      "5\n"
     ]
    }
   ],
   "source": [
    "num = int(input(\"Enter the range of number :\"))   #prime numbers in range\n",
    "\n",
    "for i in range(2,num+1):\n",
    "    flag = 0\n",
    "    for j in range(2,i):\n",
    "        if (i%j == 0):\n",
    "            flag = 1\n",
    "            break\n",
    "            \n",
    "    if flag == 0:\n",
    "      print(i)    \n",
    "          \n",
    "           \n",
    "        \n",
    "        "
   ]
  },
  {
   "cell_type": "code",
   "execution_count": 56,
   "id": "9691f81c",
   "metadata": {},
   "outputs": [
    {
     "name": "stdout",
     "output_type": "stream",
     "text": [
      "Enter the first number :90\n",
      "Enter the second number :9\n",
      "Enter the action :%\n",
      "modulo is  90.0  %  9.0  =  0.0\n"
     ]
    }
   ],
   "source": [
    "f = float(input(\"Enter the first number :\"))\n",
    "s = float(input(\"Enter the second number :\"))\n",
    "\n",
    "ch = input(\"Enter the action :\")\n",
    "\n",
    "def addition(a,b):\n",
    "    print(\"addition is \",a,\" + \",b,\" = \",(a+b))\n",
    "def subtraction(a,b):\n",
    "    print(\"subtraction is \",a,\" - \",b,\" = \",(a-b))\n",
    "def multiplication(a,b):\n",
    "    print(\"multiplication is \",a,\" * \",b,\" = \",(a*b))\n",
    "def division(a,b):\n",
    "    print(\"division is \",a,\" / \",b,\" = \",(a/b))\n",
    "def modulo(a,b):\n",
    "    print(\"modulo is \",a,\" % \",b,\" = \",(a%b))\n",
    "\n",
    "\n",
    "if(ch == '+'):\n",
    "    addition(f,s)\n",
    "if(ch == '-'):\n",
    "    subtraction(f,s)\n",
    "if(ch == '*'):\n",
    "    multiplication(f,s)\n",
    "if(ch == '/'):\n",
    "    division(f,s)\n",
    "if(ch == '%'):\n",
    "    modulo(f,s)\n",
    "\n",
    "\n",
    "    \n",
    "    \n",
    "\n",
    "\n",
    "\n",
    "\n"
   ]
  },
  {
   "cell_type": "code",
   "execution_count": 25,
   "id": "7adf7415",
   "metadata": {},
   "outputs": [
    {
     "name": "stdout",
     "output_type": "stream",
     "text": [
      "enter the string : sdfA123@\n",
      "sdfA123@\n",
      "symbol =  1  owel =   4 digit =  3\n"
     ]
    }
   ],
   "source": [
    "s = input(\"enter the string : \")\n",
    "sy = 0\n",
    "ow = 0\n",
    "di = 0\n",
    "\n",
    "print(s)\n",
    "\n",
    "for i in range(0,len(s)):\n",
    " if(s[i] >= 'a' and s[i] <= 'z' or s[i] >= 'A' and s[i] <= 'Z'):\n",
    "    ow += 1\n",
    " elif(s[i] >= '0' and s[i] <= '9'):\n",
    "    di += 1    \n",
    " else:\n",
    "    sy += 1\n",
    "        \n",
    "print(\"symbol = \",sy, \" owel =  \",ow,\"digit = \",di)\n",
    "\n",
    "    "
   ]
  },
  {
   "cell_type": "code",
   "execution_count": null,
   "id": "33432dc0",
   "metadata": {},
   "outputs": [],
   "source": []
  },
  {
   "cell_type": "code",
   "execution_count": null,
   "id": "60178731",
   "metadata": {},
   "outputs": [],
   "source": []
  }
 ],
 "metadata": {
  "kernelspec": {
   "display_name": "Python 3 (ipykernel)",
   "language": "python",
   "name": "python3"
  },
  "language_info": {
   "codemirror_mode": {
    "name": "ipython",
    "version": 3
   },
   "file_extension": ".py",
   "mimetype": "text/x-python",
   "name": "python",
   "nbconvert_exporter": "python",
   "pygments_lexer": "ipython3",
   "version": "3.9.12"
  }
 },
 "nbformat": 4,
 "nbformat_minor": 5
}
