{
 "cells": [
  {
   "cell_type": "markdown",
   "id": "e0c79f11",
   "metadata": {},
   "source": [
    "# string format"
   ]
  },
  {
   "cell_type": "code",
   "execution_count": 1,
   "id": "8e6c5f4a",
   "metadata": {},
   "outputs": [
    {
     "name": "stdout",
     "output_type": "stream",
     "text": [
      "Programming Python Language\n"
     ]
    }
   ],
   "source": [
    "str = \"{1} {0} {2}\".format('Python','Programming','Language')\n",
    "print(str)"
   ]
  },
  {
   "cell_type": "code",
   "execution_count": 2,
   "id": "faae72a7",
   "metadata": {},
   "outputs": [
    {
     "name": "stdout",
     "output_type": "stream",
     "text": [
      "Language Python Programming\n"
     ]
    }
   ],
   "source": [
    "str1 = \"{2} {0} {1}\".format('Python','Programming','Language')\n",
    "print(str1)"
   ]
  },
  {
   "cell_type": "code",
   "execution_count": 3,
   "id": "74428679",
   "metadata": {},
   "outputs": [
    {
     "name": "stdout",
     "output_type": "stream",
     "text": [
      "Language Programming Python\n"
     ]
    }
   ],
   "source": [
    "str2 = \"{2} {1} {0}\".format('Python','Programming','Language')\n",
    "print(str2)"
   ]
  },
  {
   "cell_type": "code",
   "execution_count": 7,
   "id": "2818e3b1",
   "metadata": {},
   "outputs": [
    {
     "name": "stdout",
     "output_type": "stream",
     "text": [
      "Python Language Programming\n"
     ]
    }
   ],
   "source": [
    "str1 = \"{a} {e} {f}\".format(a='Python',f='Programming',e='Language')\n",
    "print(str1)"
   ]
  },
  {
   "cell_type": "markdown",
   "id": "10e3943e",
   "metadata": {},
   "source": [
    "# Python List\n"
   ]
  },
  {
   "cell_type": "code",
   "execution_count": 8,
   "id": "42c98afb",
   "metadata": {},
   "outputs": [],
   "source": [
    "list1 = ['abcd',345,523,\"tgds\",53.87]\n",
    "list2 = [232,\"yui\"]\n"
   ]
  },
  {
   "cell_type": "code",
   "execution_count": 9,
   "id": "03c3e4b2",
   "metadata": {},
   "outputs": [
    {
     "name": "stdout",
     "output_type": "stream",
     "text": [
      "['abcd', 345, 523, 'tgds', 53.87]\n"
     ]
    }
   ],
   "source": [
    "print(list1)"
   ]
  },
  {
   "cell_type": "code",
   "execution_count": 10,
   "id": "ec12a994",
   "metadata": {},
   "outputs": [
    {
     "name": "stdout",
     "output_type": "stream",
     "text": [
      "[232, 'yui', 'abcd', 345, 523, 'tgds', 53.87]\n"
     ]
    }
   ],
   "source": [
    "print(list2 + list1)"
   ]
  },
  {
   "cell_type": "code",
   "execution_count": 11,
   "id": "18034854",
   "metadata": {},
   "outputs": [
    {
     "name": "stdout",
     "output_type": "stream",
     "text": [
      "[232, 'yui', 232, 'yui']\n"
     ]
    }
   ],
   "source": [
    "print(2*list2)"
   ]
  },
  {
   "cell_type": "code",
   "execution_count": 14,
   "id": "3fe31518",
   "metadata": {
    "scrolled": true
   },
   "outputs": [
    {
     "name": "stdout",
     "output_type": "stream",
     "text": [
      "enter any sequence :1 2 4 5 6 7 8 90\n",
      "['1', '2', '4', '5', '6', '7', '8', '90']\n"
     ]
    }
   ],
   "source": [
    "str = input(\"enter any sequence :\")\n",
    "l = str.split()\n",
    "print(l)"
   ]
  },
  {
   "cell_type": "code",
   "execution_count": null,
   "id": "2c912e72",
   "metadata": {},
   "outputs": [],
   "source": [
    "str1 = input(\"enter any sequence :\")\n",
    "l1 = str1.split()\n",
    "print(l1)"
   ]
  },
  {
   "cell_type": "code",
   "execution_count": 15,
   "id": "21d98882",
   "metadata": {},
   "outputs": [
    {
     "name": "stdout",
     "output_type": "stream",
     "text": [
      "enter any sequence :1234o2321o2o2o2o44o\n",
      "['1234', '2321', '2', '2', '2', '44', '']\n"
     ]
    }
   ],
   "source": [
    "str2 = input(\"enter any sequence :\")\n",
    "l2 = str2.split(\"o\")\n",
    "print(l2)"
   ]
  },
  {
   "cell_type": "code",
   "execution_count": 16,
   "id": "f55be5cf",
   "metadata": {},
   "outputs": [
    {
     "name": "stdout",
     "output_type": "stream",
     "text": [
      "enter numbers :344\n"
     ]
    }
   ],
   "source": [
    "num = int(input(\"enter numbers :\"))\n"
   ]
  },
  {
   "cell_type": "markdown",
   "id": "049cd67b",
   "metadata": {},
   "source": [
    "# tuple\n"
   ]
  },
  {
   "cell_type": "code",
   "execution_count": 18,
   "id": "e339da27",
   "metadata": {},
   "outputs": [
    {
     "name": "stdout",
     "output_type": "stream",
     "text": [
      "('abcd', 455, 'g', 4556, 'tyhg')\n"
     ]
    }
   ],
   "source": [
    "tuple1 = ('abcd',455,'g',4556,'tyhg')\n",
    "tuple2 = (345,5654,6545)\n",
    "print(tuple1)"
   ]
  },
  {
   "cell_type": "code",
   "execution_count": 19,
   "id": "4ab65dd9",
   "metadata": {},
   "outputs": [
    {
     "name": "stdout",
     "output_type": "stream",
     "text": [
      "6545\n"
     ]
    }
   ],
   "source": [
    "print(tuple2[2])"
   ]
  },
  {
   "cell_type": "code",
   "execution_count": 20,
   "id": "241ba19f",
   "metadata": {},
   "outputs": [
    {
     "name": "stdout",
     "output_type": "stream",
     "text": [
      "('abcd', 455, 'g', 4556)\n"
     ]
    }
   ],
   "source": [
    "print(tuple1[0:4])"
   ]
  },
  {
   "cell_type": "code",
   "execution_count": 21,
   "id": "29e8e16d",
   "metadata": {},
   "outputs": [
    {
     "name": "stdout",
     "output_type": "stream",
     "text": [
      "('abcd', 455, 'g', 4556, 'tyhg')\n"
     ]
    }
   ],
   "source": [
    "print(tuple1[0:5])"
   ]
  },
  {
   "cell_type": "code",
   "execution_count": 22,
   "id": "649a4dd5",
   "metadata": {},
   "outputs": [
    {
     "name": "stdout",
     "output_type": "stream",
     "text": [
      "()\n"
     ]
    }
   ],
   "source": [
    "print(tuple1[0:0])"
   ]
  },
  {
   "cell_type": "code",
   "execution_count": 23,
   "id": "6a9a1d94",
   "metadata": {},
   "outputs": [
    {
     "name": "stdout",
     "output_type": "stream",
     "text": [
      "('abcd', 455, 'g', 4556)\n"
     ]
    }
   ],
   "source": [
    "print(tuple1[0:-1])"
   ]
  },
  {
   "cell_type": "code",
   "execution_count": 24,
   "id": "5cb5f338",
   "metadata": {},
   "outputs": [
    {
     "name": "stdout",
     "output_type": "stream",
     "text": [
      "('g',)\n"
     ]
    }
   ],
   "source": [
    "print(tuple1[2:-2])"
   ]
  },
  {
   "cell_type": "code",
   "execution_count": 25,
   "id": "791b4534",
   "metadata": {},
   "outputs": [
    {
     "name": "stdout",
     "output_type": "stream",
     "text": [
      "('abcd', 455, 'g', 4556, 'tyhg', 345, 5654, 6545)\n"
     ]
    }
   ],
   "source": [
    "print(tuple1 +tuple2)"
   ]
  },
  {
   "cell_type": "code",
   "execution_count": 26,
   "id": "d39617f3",
   "metadata": {},
   "outputs": [
    {
     "name": "stdout",
     "output_type": "stream",
     "text": [
      "(345, 5654, 6545, 'abcd', 455, 'g', 4556, 'tyhg')\n"
     ]
    }
   ],
   "source": [
    "print(tuple2 + tuple1)"
   ]
  },
  {
   "cell_type": "code",
   "execution_count": 27,
   "id": "c60ad77d",
   "metadata": {},
   "outputs": [
    {
     "name": "stdout",
     "output_type": "stream",
     "text": [
      "(455, 'g')\n"
     ]
    }
   ],
   "source": [
    "print(tuple1[1:-2])"
   ]
  },
  {
   "cell_type": "code",
   "execution_count": 28,
   "id": "3afdcc35",
   "metadata": {},
   "outputs": [
    {
     "name": "stdout",
     "output_type": "stream",
     "text": [
      "('g', 4556)\n"
     ]
    }
   ],
   "source": [
    "print(tuple1[2:-1])"
   ]
  },
  {
   "cell_type": "code",
   "execution_count": 29,
   "id": "ce6c637f",
   "metadata": {},
   "outputs": [
    {
     "name": "stdout",
     "output_type": "stream",
     "text": [
      "()\n"
     ]
    }
   ],
   "source": [
    "print(tuple1[-2:2])"
   ]
  },
  {
   "cell_type": "code",
   "execution_count": null,
   "id": "0e95b314",
   "metadata": {},
   "outputs": [],
   "source": [
    "#tuples are immutable so cant change the value like  tuple1[2] = \"tyh\""
   ]
  },
  {
   "cell_type": "markdown",
   "id": "f77ae1fa",
   "metadata": {},
   "source": [
    "# Disctionary"
   ]
  },
  {
   "cell_type": "code",
   "execution_count": 30,
   "id": "1efdce97",
   "metadata": {},
   "outputs": [],
   "source": [
    "disc1 ={}\n",
    "disc1['one'] = \"this is python\"\n",
    "disc1[2] = \"this is java\"\n",
    "\n",
    "disc2 = {'names':\"rhoit\",\"id\":'tfbfb','dept':'tech'}"
   ]
  },
  {
   "cell_type": "code",
   "execution_count": 31,
   "id": "2d17ae65",
   "metadata": {},
   "outputs": [
    {
     "name": "stdout",
     "output_type": "stream",
     "text": [
      "{'one': 'this is python', 2: 'this is java'}\n",
      "{'names': 'rhoit', 'id': 'tfbfb', 'dept': 'tech'}\n"
     ]
    }
   ],
   "source": [
    "print(disc1)\n",
    "print(disc2)"
   ]
  },
  {
   "cell_type": "code",
   "execution_count": 32,
   "id": "e772f14f",
   "metadata": {},
   "outputs": [
    {
     "name": "stdout",
     "output_type": "stream",
     "text": [
      "dict_keys(['one', 2])\n",
      "dict_values(['rhoit', 'tfbfb', 'tech'])\n"
     ]
    }
   ],
   "source": [
    "print(disc1.keys())\n",
    "print(disc2.values())"
   ]
  },
  {
   "cell_type": "code",
   "execution_count": 33,
   "id": "8764f45f",
   "metadata": {},
   "outputs": [
    {
     "name": "stdout",
     "output_type": "stream",
     "text": [
      "{'names': 'rhoit', 'id': 'tfbfb', 'dept': 'cse', 'age': 18}\n"
     ]
    }
   ],
   "source": [
    "disc2['age'] = 18\n",
    "disc2['dept'] = \"cse\"   # disctionary update the value because it mmutable\n",
    "print(disc2)"
   ]
  },
  {
   "cell_type": "markdown",
   "id": "f64c18bc",
   "metadata": {},
   "source": [
    "# Divide the int value"
   ]
  },
  {
   "cell_type": "code",
   "execution_count": 34,
   "id": "0ac75625",
   "metadata": {},
   "outputs": [
    {
     "name": "stdout",
     "output_type": "stream",
     "text": [
      "3.0\n",
      "<class 'float'>\n",
      "3\n",
      "<class 'int'>\n"
     ]
    }
   ],
   "source": [
    "a = 12\n",
    "b = 12/4\n",
    "print(b)\n",
    "print(type(b))\n",
    "c = 12//4\n",
    "print(c)\n",
    "print(type(c))"
   ]
  },
  {
   "cell_type": "code",
   "execution_count": 35,
   "id": "2ed69964",
   "metadata": {},
   "outputs": [
    {
     "name": "stdout",
     "output_type": "stream",
     "text": [
      "36\n",
      "9.0\n"
     ]
    },
    {
     "data": {
      "text/plain": [
       "float"
      ]
     },
     "execution_count": 35,
     "metadata": {},
     "output_type": "execute_result"
    }
   ],
   "source": [
    "f = a*c\n",
    "print(f)\n",
    "type(f)\n",
    "e = b*c\n",
    "print(e)\n",
    "type(e)"
   ]
  },
  {
   "cell_type": "code",
   "execution_count": 1,
   "id": "ced68356",
   "metadata": {},
   "outputs": [
    {
     "name": "stdout",
     "output_type": "stream",
     "text": [
      "0\n",
      "1\n",
      "2\n",
      "3\n",
      "4\n",
      "5\n",
      "6\n",
      "7\n",
      "8\n",
      "9\n"
     ]
    }
   ],
   "source": [
    "for i in range(10):\n",
    "    print(i)\n",
    "    "
   ]
  },
  {
   "cell_type": "code",
   "execution_count": 36,
   "id": "7cb66f44",
   "metadata": {},
   "outputs": [
    {
     "name": "stdout",
     "output_type": "stream",
     "text": [
      "1\n",
      "2\n",
      "3\n",
      "4\n",
      "5\n",
      "6\n",
      "7\n",
      "8\n",
      "9\n"
     ]
    }
   ],
   "source": [
    "for i in range(1,10):  # for i in range(start,end,diffrance)\n",
    "    print(i)\n",
    "    "
   ]
  },
  {
   "cell_type": "code",
   "execution_count": 37,
   "id": "73199d0a",
   "metadata": {},
   "outputs": [
    {
     "name": "stdout",
     "output_type": "stream",
     "text": [
      "0\n",
      "2\n",
      "4\n",
      "6\n",
      "8\n"
     ]
    }
   ],
   "source": [
    "for i in range(0,10,2):\n",
    "    print(i)\n",
    "    "
   ]
  },
  {
   "cell_type": "code",
   "execution_count": 38,
   "id": "869632d1",
   "metadata": {},
   "outputs": [
    {
     "name": "stdout",
     "output_type": "stream",
     "text": [
      "10\n",
      "9\n",
      "8\n",
      "7\n",
      "6\n",
      "5\n",
      "4\n",
      "3\n",
      "2\n",
      "1\n"
     ]
    }
   ],
   "source": [
    "for i in range(10,0,-1):  \n",
    "    print(i)\n",
    "    "
   ]
  },
  {
   "cell_type": "code",
   "execution_count": 9,
   "id": "bd95d491",
   "metadata": {},
   "outputs": [
    {
     "name": "stdout",
     "output_type": "stream",
     "text": [
      "i am kishan\n"
     ]
    },
    {
     "data": {
      "text/plain": [
       "str"
      ]
     },
     "execution_count": 9,
     "metadata": {},
     "output_type": "execute_result"
    }
   ],
   "source": [
    "s = \"\"\"i am kishan\"\"\"\n",
    "print(s)\n",
    "type(s)\n"
   ]
  },
  {
   "cell_type": "code",
   "execution_count": 10,
   "id": "21c78c05",
   "metadata": {},
   "outputs": [
    {
     "name": "stdout",
     "output_type": "stream",
     "text": [
      "10\n"
     ]
    }
   ],
   "source": [
    "\"hiii\"     #  \"\"\"(triple court) are use to multiline comment also \n",
    "a = 10\n",
    "print(a)"
   ]
  },
  {
   "cell_type": "code",
   "execution_count": 14,
   "id": "a851ebe2",
   "metadata": {},
   "outputs": [
    {
     "name": "stdout",
     "output_type": "stream",
     "text": [
      "20\n"
     ]
    }
   ],
   "source": [
    "\"\"\"hii what\"\"\"       # its comment so it not print\n",
    "\n",
    "def sum(num):\n",
    "    \"\"\"hii what is num\"\"\"      # in triple qouts,that are docstring because of it write in funtion,class or module so it print.\n",
    "    return 2*num\n",
    "\n",
    "print(sum.__doc__)              # docstring access by __doc__ \n",
    "\n"
   ]
  },
  {
   "cell_type": "code",
   "execution_count": 15,
   "id": "03130356",
   "metadata": {},
   "outputs": [
    {
     "name": "stdout",
     "output_type": "stream",
     "text": [
      "20\n"
     ]
    }
   ],
   "source": [
    "print(sum(10))  "
   ]
  },
  {
   "cell_type": "code",
   "execution_count": 20,
   "id": "d08102a5",
   "metadata": {},
   "outputs": [
    {
     "ename": "ValueError",
     "evalue": "not enough values to unpack (expected 3, got 2)",
     "output_type": "error",
     "traceback": [
      "\u001b[1;31m---------------------------------------------------------------------------\u001b[0m",
      "\u001b[1;31mValueError\u001b[0m                                Traceback (most recent call last)",
      "Input \u001b[1;32mIn [20]\u001b[0m, in \u001b[0;36m<cell line: 1>\u001b[1;34m()\u001b[0m\n\u001b[1;32m----> 1\u001b[0m a,b,c \u001b[38;5;241m=\u001b[39m \u001b[38;5;241m1\u001b[39m,\u001b[38;5;241m2\u001b[39m\n\u001b[0;32m      2\u001b[0m \u001b[38;5;28mprint\u001b[39m(a,b)\n",
      "\u001b[1;31mValueError\u001b[0m: not enough values to unpack (expected 3, got 2)"
     ]
    }
   ],
   "source": [
    "a,b,c = 1,2\n",
    "print(a,b)"
   ]
  },
  {
   "cell_type": "code",
   "execution_count": 27,
   "id": "e63d8bd3",
   "metadata": {},
   "outputs": [
    {
     "name": "stdout",
     "output_type": "stream",
     "text": [
      "10 100 200 300\n",
      "12.34 340.0\n"
     ]
    }
   ],
   "source": [
    "a = 0b1010   #binary literal\n",
    "b = 100      #decimal literal\n",
    "c = 0o310   #octal literaL\n",
    "d = 0x12c  #hexadecimal litral\n",
    "\n",
    "abc,cdf = 12.34,3.4e2   #float literal\n",
    " \n",
    "\n",
    "print(a,b,c,d)\n",
    "\n",
    "print(abc,cdf)"
   ]
  },
  {
   "cell_type": "code",
   "execution_count": 1,
   "id": "66e7f058",
   "metadata": {},
   "outputs": [
    {
     "name": "stdout",
     "output_type": "stream",
     "text": [
      "None\n"
     ]
    }
   ],
   "source": [
    "food = None   #special type of litral\n",
    "drink = \"pepesi\"  #string type of litrals\n",
    "\n",
    "def x(y):\n",
    "    if y == drink:\n",
    "        print(drink)\n",
    "    else:\n",
    "        print(food)\n",
    "        \n",
    "x(food)"
   ]
  },
  {
   "cell_type": "code",
   "execution_count": 4,
   "id": "b0b6a62f",
   "metadata": {},
   "outputs": [
    {
     "name": "stdout",
     "output_type": "stream",
     "text": [
      "33.5\n",
      "102\n"
     ]
    }
   ],
   "source": [
    "a = 10\n",
    "b = \"102\"\n",
    "c = 23.5\n",
    "\n",
    "d = a + c    # implicite conversiom\n",
    "print(d)\n",
    "\n",
    "b = int(b)   # explicite conversion because of use the int() , float() etc. functions\n",
    "print(b)"
   ]
  },
  {
   "cell_type": "code",
   "execution_count": 8,
   "id": "a2990726",
   "metadata": {},
   "outputs": [
    {
     "data": {
      "text/plain": [
       "6"
      ]
     },
     "execution_count": 8,
     "metadata": {},
     "output_type": "execute_result"
    }
   ],
   "source": [
    "eval('2+4')\n",
    "\n"
   ]
  },
  {
   "cell_type": "code",
   "execution_count": 11,
   "id": "89dc42c1",
   "metadata": {},
   "outputs": [
    {
     "name": "stdout",
     "output_type": "stream",
     "text": [
      "True\n",
      "False\n",
      "False\n",
      "1757191526848\n",
      "1757191402368\n"
     ]
    }
   ],
   "source": [
    "x1 = 5\n",
    "y1 = 5\n",
    "x2 = 'hello'\n",
    "y2 = 'hello'\n",
    "x3 = [1,2,3]\n",
    "y3 = [1,2,3]\n",
    "\n",
    "print(x1 is y1)   #identity oprator \n",
    "print(x2 is not y2)  #identity oprator \n",
    "print(x3 is y3)   #identity oprator  answer is false becuase of list are mutable so we can change value in one list so it reflect in second list also so its not assign in same address.\n",
    "print(id(x3))\n",
    "print(id(y3))"
   ]
  },
  {
   "cell_type": "code",
   "execution_count": 4,
   "id": "a898eba5",
   "metadata": {},
   "outputs": [
    {
     "name": "stdout",
     "output_type": "stream",
     "text": [
      "True\n",
      "False\n",
      "True\n",
      "False\n"
     ]
    }
   ],
   "source": [
    "x = \"Hello world\"\n",
    "y = (1,2,3,4)\n",
    "z = {1:'a',2:'b'}\n",
    "\n",
    "print(\"H\" in x)  #membership oprator\n",
    "print(1 not in y)\n",
    "print(1 in z)\n",
    "print('a' in z)  # its flase becuase of its value not a key"
   ]
  },
  {
   "cell_type": "code",
   "execution_count": 5,
   "id": "0eb53606",
   "metadata": {},
   "outputs": [
    {
     "name": "stdout",
     "output_type": "stream",
     "text": [
      "1324907456848\n",
      "1324907456848\n"
     ]
    }
   ],
   "source": [
    "a =2\n",
    "print(id(a))\n",
    "print(id(2))"
   ]
  },
  {
   "cell_type": "code",
   "execution_count": 6,
   "id": "855ffa59",
   "metadata": {},
   "outputs": [
    {
     "name": "stdout",
     "output_type": "stream",
     "text": [
      "hello fdfv\n",
      "hello rfrf\n",
      "hello rfgrf\n",
      "hello 4\n"
     ]
    }
   ],
   "source": [
    "def std(*name):                        # arbitrary function ,it use to when dont know the how many parameter values\n",
    "    for nam in name:\n",
    "        print(\"hello\",nam)\n",
    "std('fdfv','rfrf','rfgrf',4)"
   ]
  },
  {
   "cell_type": "code",
   "execution_count": 8,
   "id": "897290cf",
   "metadata": {},
   "outputs": [
    {
     "name": "stdout",
     "output_type": "stream",
     "text": [
      "hello ('fdfv', 'rfrf', 'rfgrf', 4)\n",
      "hello (1, 2, 3)\n"
     ]
    }
   ],
   "source": [
    "def std(*name):                        # arbitrary function ,it use to when dont know the how many parameter values\n",
    "        print(\"hello\",name)\n",
    "std('fdfv','rfrf','rfgrf',4)\n",
    "std(1,2,3)"
   ]
  },
  {
   "cell_type": "code",
   "execution_count": 2,
   "id": "7997450e",
   "metadata": {},
   "outputs": [
    {
     "name": "stdout",
     "output_type": "stream",
     "text": [
      "4\n"
     ]
    }
   ],
   "source": [
    "sqr = lambda x: x**2      #it is lambda function its single line funcation which take multiple argument but have a single expression and result will store in variable.\n",
    "\n",
    "print(sqr(2))"
   ]
  },
  {
   "cell_type": "code",
   "execution_count": 15,
   "id": "4ba2921d",
   "metadata": {},
   "outputs": [
    {
     "name": "stdout",
     "output_type": "stream",
     "text": [
      "[2, 4, 6, 8, 10]\n",
      "[2]\n"
     ]
    }
   ],
   "source": [
    "ml = [1,2,3,4,5,5,6,7,8,9,10]\n",
    "\n",
    "nl = list(filter(lambda x:x%2 == 0,ml))     # filter function takes argument as function and list and result to print the elements which follow the condition of function in a new list.\n",
    "nl1 = list(filter(lambda x:x**2 == x ,ml))\n",
    "print(nl)\n",
    "print(nl1)"
   ]
  },
  {
   "cell_type": "code",
   "execution_count": 18,
   "id": "061ab63f",
   "metadata": {},
   "outputs": [
    {
     "name": "stdout",
     "output_type": "stream",
     "text": [
      "[False, True, False, True, False, False, True, False, True, False, True]\n",
      "[1, 4, 9, 16, 25, 25, 36, 49, 64, 81, 100]\n"
     ]
    }
   ],
   "source": [
    "ml = [1,2,3,4,5,5,6,7,8,9,10]\n",
    "\n",
    "nl = list(map(lambda x:x%2 == 0,ml))     # map function takes argument as function and list and result to print the new modify elements using of function in a new list.\n",
    "\n",
    "nl1 = list(map(lambda x:x**2,ml))\n",
    "print(nl)\n",
    "print(nl1)"
   ]
  },
  {
   "cell_type": "code",
   "execution_count": 22,
   "id": "362376f0",
   "metadata": {},
   "outputs": [
    {
     "name": "stdout",
     "output_type": "stream",
     "text": [
      "10\n",
      "20\n"
     ]
    },
    {
     "ename": "UnboundLocalError",
     "evalue": "local variable 'x' referenced before assignment",
     "output_type": "error",
     "traceback": [
      "\u001b[1;31m---------------------------------------------------------------------------\u001b[0m",
      "\u001b[1;31mUnboundLocalError\u001b[0m                         Traceback (most recent call last)",
      "Input \u001b[1;32mIn [22]\u001b[0m, in \u001b[0;36m<cell line: 9>\u001b[1;34m()\u001b[0m\n\u001b[0;32m      6\u001b[0m     \u001b[38;5;28mprint\u001b[39m(x)\n\u001b[0;32m      8\u001b[0m \u001b[38;5;28mprint\u001b[39m(x)\n\u001b[1;32m----> 9\u001b[0m \u001b[43mfoo\u001b[49m\u001b[43m(\u001b[49m\u001b[43m)\u001b[49m\n",
      "Input \u001b[1;32mIn [22]\u001b[0m, in \u001b[0;36mfoo\u001b[1;34m()\u001b[0m\n\u001b[0;32m      3\u001b[0m \u001b[38;5;28;01mdef\u001b[39;00m \u001b[38;5;21mfoo\u001b[39m():\n\u001b[0;32m      4\u001b[0m     \u001b[38;5;28mprint\u001b[39m(y)\n\u001b[1;32m----> 5\u001b[0m     x \u001b[38;5;241m=\u001b[39m \u001b[43mx\u001b[49m\u001b[38;5;241m*\u001b[39m\u001b[38;5;241m2\u001b[39m\n\u001b[0;32m      6\u001b[0m     \u001b[38;5;28mprint\u001b[39m(x)\n",
      "\u001b[1;31mUnboundLocalError\u001b[0m: local variable 'x' referenced before assignment"
     ]
    }
   ],
   "source": [
    "x = 10      #itd show error becuase we can,t assign value in local variable in function\n",
    "y = 20\n",
    "def foo():\n",
    "    print(y)\n",
    "    x = x*2\n",
    "    print(x)\n",
    "    \n",
    "print(x)\n",
    "foo()"
   ]
  },
  {
   "cell_type": "code",
   "execution_count": 20,
   "id": "953c090f",
   "metadata": {},
   "outputs": [
    {
     "name": "stdout",
     "output_type": "stream",
     "text": [
      "10\n",
      "20\n"
     ]
    }
   ],
   "source": [
    "x = 10\n",
    "\n",
    "\n",
    "def foo():\n",
    "    global x    #use the global variable value use the global keyword when variable name is same in globle and local\n",
    "    x = x*2\n",
    "    print(x)\n",
    "    \n",
    "    \n",
    "print(x)\n",
    "foo()"
   ]
  },
  {
   "cell_type": "code",
   "execution_count": 27,
   "id": "a474648b",
   "metadata": {},
   "outputs": [
    {
     "ename": "NameError",
     "evalue": "name 'z' is not defined",
     "output_type": "error",
     "traceback": [
      "\u001b[1;31m---------------------------------------------------------------------------\u001b[0m",
      "\u001b[1;31mNameError\u001b[0m                                 Traceback (most recent call last)",
      "Input \u001b[1;32mIn [27]\u001b[0m, in \u001b[0;36m<cell line: 5>\u001b[1;34m()\u001b[0m\n\u001b[0;32m      2\u001b[0m     z \u001b[38;5;241m=\u001b[39m \u001b[38;5;241m10\u001b[39m \n\u001b[0;32m      3\u001b[0m     \u001b[38;5;28mprint\u001b[39m(z)\n\u001b[1;32m----> 5\u001b[0m \u001b[38;5;28mprint\u001b[39m(\u001b[43mz\u001b[49m)\n",
      "\u001b[1;31mNameError\u001b[0m: name 'z' is not defined"
     ]
    }
   ],
   "source": [
    "def foo():\n",
    "    z = 10 \n",
    "    print(z)\n",
    "    \n",
    "print(z)     # its show error becuase of not define the value in global but he cant access value to local varible in global"
   ]
  },
  {
   "cell_type": "code",
   "execution_count": 6,
   "id": "f82d3ebd",
   "metadata": {},
   "outputs": [
    {
     "name": "stdout",
     "output_type": "stream",
     "text": [
      "10\n",
      "10\n"
     ]
    }
   ],
   "source": [
    "def too():\n",
    "    u = 20\n",
    "    def foo():\n",
    "        nonlocal u         #in a nested function use the nonlocal keyword to use assign value to nonlocal variable to and modify the value of same name variable of global variable\n",
    "        u = 10 \n",
    "        print(u)\n",
    "    \n",
    "    foo()\n",
    "    print(u)\n",
    "    \n",
    "too()"
   ]
  },
  {
   "cell_type": "code",
   "execution_count": 7,
   "id": "ba27ddd5",
   "metadata": {},
   "outputs": [
    {
     "name": "stdout",
     "output_type": "stream",
     "text": [
      "10\n",
      "20\n"
     ]
    }
   ],
   "source": [
    "def too():\n",
    "    u = 20\n",
    "    def foo():\n",
    "        global u         \n",
    "        u = 10 \n",
    "        print(u)\n",
    "    \n",
    "    foo()\n",
    "    print(u)\n",
    "    \n",
    "too()"
   ]
  },
  {
   "cell_type": "code",
   "execution_count": null,
   "id": "ffde4c3b",
   "metadata": {},
   "outputs": [],
   "source": []
  },
  {
   "cell_type": "code",
   "execution_count": null,
   "id": "3c57e6d1",
   "metadata": {},
   "outputs": [],
   "source": []
  }
 ],
 "metadata": {
  "kernelspec": {
   "display_name": "Python 3 (ipykernel)",
   "language": "python",
   "name": "python3"
  },
  "language_info": {
   "codemirror_mode": {
    "name": "ipython",
    "version": 3
   },
   "file_extension": ".py",
   "mimetype": "text/x-python",
   "name": "python",
   "nbconvert_exporter": "python",
   "pygments_lexer": "ipython3",
   "version": "3.9.12"
  }
 },
 "nbformat": 4,
 "nbformat_minor": 5
}
